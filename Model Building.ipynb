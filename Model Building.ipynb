{
 "cells": [
  {
   "cell_type": "code",
   "execution_count": 51,
   "metadata": {
    "collapsed": true
   },
   "outputs": [],
   "source": [
    "import numpy as np\n",
    "import cPickle\n",
    "import utils"
   ]
  },
  {
   "cell_type": "code",
   "execution_count": 10,
   "metadata": {
    "collapsed": true
   },
   "outputs": [],
   "source": [
    "# For repeatability\n",
    "random_state = 12932"
   ]
  },
  {
   "cell_type": "code",
   "execution_count": 62,
   "metadata": {
    "collapsed": false
   },
   "outputs": [],
   "source": [
    "with open('train.pkl', 'rb') as fp:\n",
    "    train_X_all, train_y_all = cPickle.load(fp)\n",
    "with open('test.pkl', 'rb') as fp:\n",
    "    test_X_all, test_y_all = cPickle.load(fp)"
   ]
  },
  {
   "cell_type": "code",
   "execution_count": 63,
   "metadata": {
    "collapsed": false
   },
   "outputs": [
    {
     "data": {
      "text/plain": [
       "((20631, 71), (20631, 3), (100, 71), (100, 3))"
      ]
     },
     "execution_count": 63,
     "metadata": {},
     "output_type": "execute_result"
    }
   ],
   "source": [
    "train_X_all.shape, train_y_all.shape, test_X_all.shape, test_y_all.shape"
   ]
  },
  {
   "cell_type": "markdown",
   "metadata": {},
   "source": [
    "### Regression"
   ]
  },
  {
   "cell_type": "code",
   "execution_count": 129,
   "metadata": {
    "collapsed": false
   },
   "outputs": [],
   "source": [
    "train_y = train_y_all['RUL']\n",
    "test_y = test_y_all['RUL']\n",
    "top_features = utils.select_top_features(train_X_all, target_col='RUL', n=35)\n",
    "train_X = train_X_all[top_features]\n",
    "test_X = test_X_all[top_features]"
   ]
  },
  {
   "cell_type": "code",
   "execution_count": 116,
   "metadata": {
    "collapsed": true
   },
   "outputs": [],
   "source": [
    "def sum_abs_ruldiff(estimator):\n",
    "    diffs = []\n",
    "    for predicted,actual in zip(estimator.predict(test_X), test_y):\n",
    "        diffs.append(abs(predicted - actual))\n",
    "    return sum(diffs)"
   ]
  },
  {
   "cell_type": "code",
   "execution_count": 131,
   "metadata": {
    "collapsed": false
   },
   "outputs": [
    {
     "name": "stdout",
     "output_type": "stream",
     "text": [
      "('Best params', {'n_estimators': 15, 'random_state': 12932, 'max_depth': 16, 'min_samples_leaf': 4})\n",
      "('Score', 0.50960074417892909)\n",
      "('Sum abs RUL diff', 2066.301179204298)\n"
     ]
    }
   ],
   "source": [
    "# Random forest regressor\n",
    "from sklearn.grid_search import GridSearchCV\n",
    "from sklearn.ensemble import RandomForestRegressor\n",
    "\n",
    "# Find best hyperparameters with grid search\n",
    "# Setting used in azureml sample: n_tree=8, max_depth=32, n_random_splits=128, min_n_sample=1\n",
    "parameters = {'n_estimators': [6,8,10,15], 'max_depth': [16, 24, 32, 48], 'min_samples_leaf': [1,2,4],\n",
    "     'random_state': [random_state] }\n",
    "estimator = GridSearchCV(RandomForestRegressor(), parameters, n_jobs=-1)\n",
    "estimator.fit(train_X, train_y)\n",
    "print('Best params', estimator.best_params_)\n",
    "print('Score', estimator.score(test_X, test_y))\n",
    "print('Sum abs RUL diff', sum_abs_ruldiff(estimator))"
   ]
  },
  {
   "cell_type": "code",
   "execution_count": 132,
   "metadata": {
    "collapsed": false
   },
   "outputs": [
    {
     "name": "stdout",
     "output_type": "stream",
     "text": [
      "('Best params', {'n_estimators': 80, 'loss': 'lad', 'learning_rate': 0.1, 'random_state': 12932, 'max_depth': 3})\n",
      "('Score', 0.70571124000148366)\n",
      "('Sum abs RUL diff', 1673.2544408767842)\n"
     ]
    }
   ],
   "source": [
    "# Gradient boosting regression\n",
    "from sklearn.ensemble import GradientBoostingRegressor\n",
    "\n",
    "parameters = {\n",
    "    'loss': ['ls', 'lad'],\n",
    "    'learning_rate': [1e-2, 0.1, 0.2, 0.3],\n",
    "    'n_estimators': [80, 100, 150],\n",
    "    'max_depth': [3, 5, 10],\n",
    "    'random_state': [random_state]\n",
    "}\n",
    "estimator = GridSearchCV(GradientBoostingRegressor(), parameters, n_jobs=-1)\n",
    "estimator.fit(train_X, train_y)\n",
    "print('Best params', estimator.best_params_)\n",
    "print('Score', estimator.score(test_X, test_y))\n",
    "print('Sum abs RUL diff', sum_abs_ruldiff(estimator))"
   ]
  },
  {
   "cell_type": "code",
   "execution_count": 130,
   "metadata": {
    "collapsed": false
   },
   "outputs": [
    {
     "name": "stdout",
     "output_type": "stream",
     "text": [
      "('Best params', {'alpha': 2.0})\n",
      "('Score', 0.42731130175601495)\n",
      "('Sum abs RUL diff', 2641.7131621300728)\n"
     ]
    }
   ],
   "source": [
    "# Ridge regression\n",
    "from sklearn.linear_model import Ridge\n",
    "\n",
    "parameters = {\n",
    "    'alpha': [0.01, 0.1, 0.5, 1.0, 1.5, 2.0]\n",
    "}\n",
    "estimator = GridSearchCV(Ridge(), parameters, n_jobs=-1)\n",
    "estimator.fit(train_X, train_y)\n",
    "print('Best params', estimator.best_params_)\n",
    "print('Score', estimator.score(test_X, test_y))\n",
    "print('Sum abs RUL diff', sum_abs_ruldiff(estimator))"
   ]
  },
  {
   "cell_type": "markdown",
   "metadata": {},
   "source": [
    "### Binary Classification"
   ]
  },
  {
   "cell_type": "code",
   "execution_count": 120,
   "metadata": {
    "collapsed": true
   },
   "outputs": [],
   "source": [
    "train_y = train_y_all['label1']\n",
    "test_y = test_y_all['label1']\n",
    "top_features = utils.select_top_features(train_X_all, target_col='label1', n=35)\n",
    "train_X = train_X_all[top_features]\n",
    "test_X = test_X_all[top_features]"
   ]
  },
  {
   "cell_type": "code",
   "execution_count": 122,
   "metadata": {
    "collapsed": false
   },
   "outputs": [
    {
     "name": "stdout",
     "output_type": "stream",
     "text": [
      "('Best params', {'C': 5.0, 'random_state': 12932, 'tol': 1e-05})\n",
      "('Score', 0.92000000000000004)\n"
     ]
    }
   ],
   "source": [
    "# Logistic regression\n",
    "from sklearn.linear_model import LogisticRegression\n",
    "\n",
    "parameters = {\n",
    "    'tol': [1e-5, 1e-4, 1e-3, 1e-2],\n",
    "    'C': [1e-2, 1e-1, 1.0, 2.0, 5.0],\n",
    "    'random_state': [random_state]\n",
    "}\n",
    "estimator = GridSearchCV(LogisticRegression(), parameters, n_jobs=-1)\n",
    "estimator.fit(train_X, train_y)\n",
    "print('Best params', estimator.best_params_)\n",
    "print('Score', estimator.score(test_X, test_y))"
   ]
  },
  {
   "cell_type": "code",
   "execution_count": 123,
   "metadata": {
    "collapsed": false
   },
   "outputs": [
    {
     "name": "stdout",
     "output_type": "stream",
     "text": [
      "('Best params', {'n_estimators': 100, 'loss': 'deviance', 'learning_rate': 0.2, 'random_state': 12932, 'max_depth': 3})\n",
      "('Score', 0.92000000000000004)\n"
     ]
    }
   ],
   "source": [
    "# Gradient boosting\n",
    "from sklearn.ensemble import GradientBoostingClassifier\n",
    "\n",
    "parameters = {\n",
    "    'loss': ['deviance'],\n",
    "    'learning_rate': [1e-2, 0.1, 0.2, 0.3],\n",
    "    'n_estimators': [80, 100, 150, 200],\n",
    "    'max_depth': [3, 5, 10, 20],\n",
    "    'random_state': [random_state]\n",
    "}\n",
    "estimator = GridSearchCV(GradientBoostingClassifier(), parameters, n_jobs=-1)\n",
    "estimator.fit(train_X, train_y)\n",
    "print('Best params', estimator.best_params_)\n",
    "print('Score', estimator.score(test_X, test_y))"
   ]
  },
  {
   "cell_type": "code",
   "execution_count": 124,
   "metadata": {
    "collapsed": false
   },
   "outputs": [
    {
     "name": "stdout",
     "output_type": "stream",
     "text": [
      "('Best params', {'n_estimators': 15, 'random_state': 12932, 'max_depth': 48, 'min_samples_leaf': 2})\n",
      "('Score', 0.90000000000000002)\n"
     ]
    }
   ],
   "source": [
    "# Extra tree classifier \n",
    "from sklearn.ensemble import ExtraTreesClassifier\n",
    "\n",
    "parameters = {\n",
    "    'n_estimators': [8,10,15, 20], \n",
    "    'max_depth': [16, 24, 32, 48], \n",
    "    'min_samples_leaf': [1,2,4],\n",
    "    'random_state': [random_state] \n",
    "}\n",
    "estimator = GridSearchCV(ExtraTreesClassifier(), parameters, n_jobs=-1)\n",
    "estimator.fit(train_X, train_y)\n",
    "print('Best params', estimator.best_params_)\n",
    "print('Score', estimator.score(test_X, test_y))"
   ]
  }
 ],
 "metadata": {
  "anaconda-cloud": {},
  "kernelspec": {
   "display_name": "Python [conda root]",
   "language": "python",
   "name": "conda-root-py"
  },
  "language_info": {
   "codemirror_mode": {
    "name": "ipython",
    "version": 2
   },
   "file_extension": ".py",
   "mimetype": "text/x-python",
   "name": "python",
   "nbconvert_exporter": "python",
   "pygments_lexer": "ipython2",
   "version": "2.7.12"
  }
 },
 "nbformat": 4,
 "nbformat_minor": 1
}
